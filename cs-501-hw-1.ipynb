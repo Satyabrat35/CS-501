{
 "cells": [
  {
   "cell_type": "code",
   "execution_count": 1,
   "id": "a614ea80",
   "metadata": {
    "_cell_guid": "b1076dfc-b9ad-4769-8c92-a6c4dae69d19",
    "_uuid": "8f2839f25d086af736a60e9eeb907d3b93b6e0e5",
    "execution": {
     "iopub.execute_input": "2022-10-15T01:16:19.105059Z",
     "iopub.status.busy": "2022-10-15T01:16:19.104607Z",
     "iopub.status.idle": "2022-10-15T01:16:19.116653Z",
     "shell.execute_reply": "2022-10-15T01:16:19.115535Z"
    },
    "papermill": {
     "duration": 0.020222,
     "end_time": "2022-10-15T01:16:19.119381",
     "exception": false,
     "start_time": "2022-10-15T01:16:19.099159",
     "status": "completed"
    },
    "tags": []
   },
   "outputs": [],
   "source": [
    "import numpy as np \n",
    "import pandas as pd \n",
    "import matplotlib.pyplot as plt\n",
    "\n",
    "import os\n",
    "for dirname, _, filenames in os.walk('/kaggle/input'):\n",
    "    for filename in filenames:\n",
    "        print(os.path.join(dirname, filename))"
   ]
  },
  {
   "cell_type": "code",
   "execution_count": 2,
   "id": "9bbd6453",
   "metadata": {
    "execution": {
     "iopub.execute_input": "2022-10-15T01:16:19.126880Z",
     "iopub.status.busy": "2022-10-15T01:16:19.126434Z",
     "iopub.status.idle": "2022-10-15T01:16:19.134164Z",
     "shell.execute_reply": "2022-10-15T01:16:19.132679Z"
    },
    "papermill": {
     "duration": 0.014396,
     "end_time": "2022-10-15T01:16:19.136757",
     "exception": false,
     "start_time": "2022-10-15T01:16:19.122361",
     "status": "completed"
    },
    "tags": []
   },
   "outputs": [],
   "source": [
    "# function to calculate L(A) ie sum of squares of all elements\n",
    "def square(b, a):\n",
    "    a_trans = np.transpose(a)\n",
    "    a_trans_a = np.matmul(a_trans, a)\n",
    "    c = b - a_trans_a\n",
    "    c_new = np.power(c, 2)\n",
    "    sum_row = np.sum(c_new, axis=1)\n",
    "    return np.sum(sum_row)\n",
    "\n",
    "# function to calculate gradient descent ie G(A)\n",
    "def gradient(a, b, alpha):\n",
    "    a_trans = np.transpose(a)\n",
    "    a_trans_a = np.matmul(a_trans, a)\n",
    "    a_trans_a_minus_b = a_trans_a - b\n",
    "    g = 4 * np.matmul(a, a_trans_a_minus_b)\n",
    "    return a - (alpha * g)"
   ]
  },
  {
   "cell_type": "code",
   "execution_count": 3,
   "id": "39b9143e",
   "metadata": {
    "execution": {
     "iopub.execute_input": "2022-10-15T01:16:19.143934Z",
     "iopub.status.busy": "2022-10-15T01:16:19.143478Z",
     "iopub.status.idle": "2022-10-15T01:16:19.382287Z",
     "shell.execute_reply": "2022-10-15T01:16:19.381083Z"
    },
    "papermill": {
     "duration": 0.245545,
     "end_time": "2022-10-15T01:16:19.384976",
     "exception": false,
     "start_time": "2022-10-15T01:16:19.139431",
     "status": "completed"
    },
    "tags": []
   },
   "outputs": [
    {
     "data": {
      "image/png": "[encoded data removed]",
      "text/plain": [
       "<Figure size 432x288 with 1 Axes>"
      ]
     },
     "metadata": {
      "needs_background": "light"
     },
     "output_type": "display_data"
    }
   ],
   "source": [
    "# As per question taken k = 10 and d = 10\n",
    "k = 10\n",
    "d = 10\n",
    "\n",
    "# create a random array of k x D size\n",
    "arr = np.random.normal(0, 1, k*d)\n",
    "\n",
    "# create array a\n",
    "mat_a_old = np.array(arr)\n",
    "mat_a_old = mat_a_old.reshape(k,d)\n",
    "mat_a_old_transpose = np.transpose(mat_a_old)\n",
    "\n",
    "# create array b\n",
    "mat_b = np.matmul(mat_a_old_transpose, mat_a_old)\n",
    "\n",
    "# create array a_new\n",
    "arr = np.random.rand(k,d)\n",
    "mat_a = np.array(arr)\n",
    "mat_a = mat_a.reshape(k, d)\n",
    "\n",
    "\n",
    "x_axis = [1]\n",
    "y_axis = [square(mat_b, mat_a)]\n",
    "\n",
    "# calculating the value of L(A) for over a 1000 iterations and checking its convergence\n",
    "for i in range(1000):\n",
    "    mat_a = gradient(mat_a, mat_b, 0.005)\n",
    "    y_axis.append(square(mat_b, mat_a))\n",
    "    x_axis.append(i + 1)\n",
    "\n",
    "plt.plot(x_axis, y_axis)\n",
    "\n",
    "plt.xlabel('No of iterations')\n",
    "plt.ylabel('L(A)')\n",
    "plt.show()"
   ]
  },
  {
   "cell_type": "code",
   "execution_count": 4,
   "id": "1f7e585e",
   "metadata": {
    "execution": {
     "iopub.execute_input": "2022-10-15T01:16:19.392718Z",
     "iopub.status.busy": "2022-10-15T01:16:19.392271Z",
     "iopub.status.idle": "2022-10-15T01:16:19.858557Z",
     "shell.execute_reply": "2022-10-15T01:16:19.857052Z"
    },
    "papermill": {
     "duration": 0.472867,
     "end_time": "2022-10-15T01:16:19.861024",
     "exception": false,
     "start_time": "2022-10-15T01:16:19.388157",
     "status": "completed"
    },
    "tags": []
   },
   "outputs": [
    {
     "name": "stdout",
     "output_type": "stream",
     "text": [
      "[1746.2161598081475, 964.4583031651969, 526.3099619266525, 246.54500157167183, 127.75910891498415, 65.78740965314897, 21.906486211461736, 3.224971508095931, 0.7909092455505607, 1.7376752280965997e-15, 0.0005122364312380123, 0.0010742484290652133, 0.0012253050859569895, 0.001778499282883176, 0.0019953154876394324, 0.002300481305226769, 0.0025152353320504234, 0.002628245689178828, 0.002566701254586832]\n"
     ]
    },
    {
     "data": {
      "text/plain": [
       "Text(0, 0.5, 'Error')"
      ]
     },
     "execution_count": 4,
     "metadata": {},
     "output_type": "execute_result"
    },
    {
     "data": {
      "image/png": "[encoded data removed]",
      "text/plain": [
       "<Figure size 432x288 with 1 Axes>"
      ]
     },
     "metadata": {
      "needs_background": "light"
     },
     "output_type": "display_data"
    }
   ],
   "source": [
    "# same process as above --\n",
    "k, d = 10, 15\n",
    "\n",
    "arr = np.random.normal(0, 1, k*d)\n",
    "\n",
    "mat_a_prime = np.array(arr)\n",
    "mat_a_prime = mat_a_prime.reshape(k,d)\n",
    "\n",
    "mat_a_prime_transpose = np.transpose(mat_a_prime)\n",
    "mat_b = np.matmul(mat_a_prime_transpose, mat_a_prime)\n",
    "\n",
    "# creating an empty list to store error values wrt to k value\n",
    "final_error = []\n",
    "k_new = [i for i in range(1,20)]\n",
    "\n",
    "for k in range(1, 20):\n",
    "    arr = np.random.rand(k,d)\n",
    "    a_new = np.array(arr)\n",
    "    a_new = a_new.reshape(k, d)\n",
    "    for i in range(1000):\n",
    "        a_new = gradient(a_new, mat_b, 0.005)\n",
    "        \n",
    "    final_error.append(square(mat_b, a_new))\n",
    "\n",
    "\n",
    "# plot of error vs k\n",
    "print(final_error)\n",
    "plt.plot(k_new, final_error)\n",
    "plt.xlabel('No of iterations')\n",
    "plt.ylabel('Error')"
   ]
  },
  {
   "cell_type": "code",
   "execution_count": 5,
   "id": "8330c192",
   "metadata": {
    "execution": {
     "iopub.execute_input": "2022-10-15T01:16:19.871334Z",
     "iopub.status.busy": "2022-10-15T01:16:19.870929Z",
     "iopub.status.idle": "2022-10-15T01:16:20.316340Z",
     "shell.execute_reply": "2022-10-15T01:16:20.315253Z"
    },
    "papermill": {
     "duration": 0.453855,
     "end_time": "2022-10-15T01:16:20.319171",
     "exception": false,
     "start_time": "2022-10-15T01:16:19.865316",
     "status": "completed"
    },
    "tags": []
   },
   "outputs": [
    {
     "name": "stdout",
     "output_type": "stream",
     "text": [
      "[4.0, 3.0, 2.0, 1.0, 1.97096626624494e-29, 2.73422327483879e-29, 2.6362134424013487e-29, 1.467782472420969e-29, 1.4256166434712782e-29, 1.2969705028661616e-29, 2.6364673953179226e-29, 2.2509404677725626e-29, 1.4496179288699337e-29, 1.0099768342709227e-29, 7.421951991924731e-30, 1.796602082738176e-29, 2.129573790267562e-29, 1.586374430228121e-29, 3.0679646104929364e-29]\n"
     ]
    },
    {
     "data": {
      "text/plain": [
       "Text(0, 0.5, 'Error')"
      ]
     },
     "execution_count": 5,
     "metadata": {},
     "output_type": "execute_result"
    },
    {
     "data": {
      "image/png": "[encoded data removed]",
      "text/plain": [
       "<Figure size 432x288 with 1 Axes>"
      ]
     },
     "metadata": {
      "needs_background": "light"
     },
     "output_type": "display_data"
    }
   ],
   "source": [
    "# creating an identity matrix of size 5 (for B)\n",
    "d = 5\n",
    "mat_b = np.identity(d)\n",
    "\n",
    "final_error = []\n",
    "k_new = [i for i in range(1,20)]\n",
    "\n",
    "for k in range(1, 20):\n",
    "    arr = np.random.rand(k,d)\n",
    "    a_new = np.array(arr)\n",
    "    a_new = a_new.reshape(k, d)\n",
    "    for i in range(1000):\n",
    "        a_new = gradient(a_new, mat_b, 0.005)\n",
    "        \n",
    "    final_error.append(square(mat_b, a_new))\n",
    "    \n",
    "# plot of error vs k\n",
    "print(final_error)\n",
    "plt.plot(k_new, final_error)\n",
    "plt.xlabel('No of iterations')\n",
    "plt.ylabel('Error')"
   ]
  },
  {
   "cell_type": "code",
   "execution_count": 6,
   "id": "fc704a9c",
   "metadata": {
    "execution": {
     "iopub.execute_input": "2022-10-15T01:16:20.328471Z",
     "iopub.status.busy": "2022-10-15T01:16:20.328059Z",
     "iopub.status.idle": "2022-10-15T01:16:20.759609Z",
     "shell.execute_reply": "2022-10-15T01:16:20.758382Z"
    },
    "papermill": {
     "duration": 0.43926,
     "end_time": "2022-10-15T01:16:20.762313",
     "exception": false,
     "start_time": "2022-10-15T01:16:20.323053",
     "status": "completed"
    },
    "tags": []
   },
   "outputs": [
    {
     "name": "stdout",
     "output_type": "stream",
     "text": [
      "[4.000000000000001, 3.0, 2.0, 1.0, 1.0, 1.0, 1.0, 1.0, 1.0, 1.0, 1.0, 1.0, 1.0, 1.0, 1.0, 1.0, 1.0, 1.0, 1.0]\n"
     ]
    },
    {
     "data": {
      "text/plain": [
       "Text(0, 0.5, 'Error')"
      ]
     },
     "execution_count": 6,
     "metadata": {},
     "output_type": "execute_result"
    },
    {
     "data": {
      "image/png": "[encoded data removed]",
      "text/plain": [
       "<Figure size 432x288 with 1 Axes>"
      ]
     },
     "metadata": {
      "needs_background": "light"
     },
     "output_type": "display_data"
    }
   ],
   "source": [
    "# creating an identity matrix of size 5 (for B) but last element is -1\n",
    "d = 5\n",
    "mat_b = np.identity(d)\n",
    "mat_b[4][4] = -1\n",
    "\n",
    "final_error = []\n",
    "k_new = [i for i in range(1,20)]\n",
    "for k in range(1, 20):\n",
    "    arr = np.random.rand(k,d)\n",
    "    a_new = np.array(arr)\n",
    "    a_new = a_new.reshape(k, d)\n",
    "    for i in range(1000):\n",
    "        a_new = gradient(a_new, mat_b, 0.005)\n",
    "        \n",
    "    final_error.append(square(mat_b, a_new))\n",
    "    \n",
    "# print(len(k_new))\n",
    "print(final_error)\n",
    "plt.plot(k_new, final_error)\n",
    "plt.xlabel('No of Iterations')\n",
    "plt.ylabel('Error')"
   ]
  }
 ],
 "metadata": {
  "kernelspec": {
   "display_name": "Python 3",
   "language": "python",
   "name": "python3"
  },
  "language_info": {
   "codemirror_mode": {
    "name": "ipython",
    "version": 3
   },
   "file_extension": ".py",
   "mimetype": "text/x-python",
   "name": "python",
   "nbconvert_exporter": "python",
   "pygments_lexer": "ipython3",
   "version": "3.7.12"
  },
  "papermill": {
   "default_parameters": {},
   "duration": 12.285031,
   "end_time": "2022-10-15T01:16:21.489441",
   "environment_variables": {},
   "exception": null,
   "input_path": "__notebook__.ipynb",
   "output_path": "__notebook__.ipynb",
   "parameters": {},
   "start_time": "2022-10-15T01:16:09.204410",
   "version": "2.3.4"
  }
 },
 "nbformat": 4,
 "nbformat_minor": 5
}
